{
 "cells": [
  {
   "cell_type": "code",
   "execution_count": 1,
   "metadata": {},
   "outputs": [],
   "source": [
    "import networkx as nx\n",
    "from parse import *\n",
    "from utils import is_valid_network, average_pairwise_distance_fast\n",
    "from solver import solve\n",
    "import sys\n",
    "import os\n",
    "import csv\n",
    "import datetime\n",
    "import numpy as np\n",
    "import pandas as pd"
   ]
  },
  {
   "cell_type": "code",
   "execution_count": 4,
   "metadata": {},
   "outputs": [],
   "source": [
    "ng = [\"medium-75\", \"medium-77\", \"medium-82\", \"medium-95\", \"medium-99\", \"medium-100\", \"medium-115\", \"medium-116\", \"medium-117\", \"medium-124\", \"medium-143\", \"medium-147\", \"medium-150\", \"medium-154\", \"medium-155\", \"medium-158\", \"medium-168\", \"medium-174\", \"medium-177\", \"medium-181\", \"medium-183\", \"medium-187\", \"medium-213\", \"medium-215\", \"medium-218\", \"medium-222\", \"medium-237\", \"medium-238\", \"medium-247\", \"medium-254\", \"medium-264\", \"medium-266\", \"medium-274\", \"medium-275\", \"medium-279\", \"medium-294\"]\n",
    "ng = [f + \".in\" for f in ng]"
   ]
  },
  {
   "cell_type": "code",
   "execution_count": 5,
   "metadata": {},
   "outputs": [
    {
     "output_type": "stream",
     "name": "stdout",
     "text": "Solving medium-75.in\nOriginal: 0.8265736842105263\nNew: 0.8265736842105263\nSolving medium-77.in\nOriginal: 153.03369800569797\nNew: 154.17100264550263\nSolving medium-82.in\nOriginal: 64.48813235294116\nNew: 63.925960784313716\nImproved output for medium-82.in\nSolving medium-95.in\nOriginal: 37.40652105263158\nNew: 38.420568421052636\nSolving medium-99.in\nOriginal: 38.23187581699346\nNew: 38.30201470588235\nSolving medium-100.in\nOriginal: 77.65044588744588\nNew: 77.65044588744588\nSolving medium-115.in\nOriginal: 12.39625\nNew: 12.39625\nSolving medium-116.in\nOriginal: 603.6140946859902\nNew: 603.6140946859902\nSolving medium-117.in\nOriginal: 130.9245882352941\nNew: 130.9245882352941\nSolving medium-124.in\nOriginal: 145.38153846153847\nNew: 145.38153846153847\nSolving medium-143.in\nOriginal: 48.68571428571428\nNew: 48.68571428571428\nSolving medium-147.in\nOriginal: 14.476190476190476\nNew: 14.466666666666667\nImproved output for medium-147.in\nSolving medium-150.in\nOriginal: 22.401209677419356\nNew: 22.53030303030303\nSolving medium-154.in\nOriginal: 4.238095238095238\nNew: 4.3238095238095235\nSolving medium-155.in\nOriginal: 56.13356862745098\nNew: 56.13932631578946\nSolving medium-158.in\nOriginal: 16.97264367816091\nNew: 17.048602150537633\nSolving medium-168.in\nOriginal: 10.233257575757577\nNew: 10.363190730837788\nSolving medium-174.in\nOriginal: 98.89065934065935\nNew: 98.89065934065935\nSolving medium-177.in\nOriginal: 0.8265736842105263\nNew: 0.8265736842105263\nSolving medium-181.in\nOriginal: 57.23229411764705\nNew: 57.23229411764705\nSolving medium-183.in\nOriginal: 27.57628571428571\nNew: 27.57628571428571\nSolving medium-187.in\nOriginal: 7.685599999999999\nNew: 7.555611111111111\nImproved output for medium-187.in\nSolving medium-213.in\nOriginal: 67.95698924731182\nNew: 68.0\nSolving medium-215.in\nOriginal: 27.743127272727275\nNew: 26.659333333333336\nImproved output for medium-215.in\nSolving medium-218.in\nOriginal: 331.1190476190476\nNew: 333.42857142857144\nSolving medium-222.in\nOriginal: 19.2712\nNew: 19.271199999999993\nImproved output for medium-222.in\nSolving medium-237.in\nOriginal: 67.49216176470588\nNew: 66.6698\nImproved output for medium-237.in\nSolving medium-238.in\nOriginal: 76.13410476190475\nNew: 76.8017619047619\nSolving medium-247.in\nOriginal: 5.550537634408602\nNew: 5.550537634408602\nSolving medium-254.in\nOriginal: 226.51553201970438\nNew: 226.51553201970438\nSolving medium-264.in\nOriginal: 0.06785714285714287\nNew: 0.06726839826839827\nImproved output for medium-264.in\nSolving medium-266.in\nOriginal: 40.42458241758242\nNew: 40.584266666666664\nSolving medium-274.in\nOriginal: 94.44420779220778\nNew: 94.44420779220779\nSolving medium-275.in\nOriginal: 5.709851551956815\nNew: 5.8125\nSolving medium-279.in\nOriginal: 79.77275889328062\nNew: 79.77275889328064\nSolving medium-294.in\nOriginal: 15.313582582582582\nNew: 15.368627627627626\n"
    }
   ],
   "source": [
    "timestamp = datetime.datetime.now().timestamp()\n",
    "with open('log.csv', 'w') as logfile:\n",
    "    logwriter = csv.writer(logfile)\n",
    "    for filename in ng:\n",
    "        G = read_input_file(os.path.join(\"inputs/\", filename))\n",
    "        print(\"Solving \" + filename)\n",
    "        T, dists = solve(G)\n",
    "        #for d in dists: print(d)\n",
    "        outputfile = os.path.join(\"outputs/\", filename.replace(\"in\", \"out\"))\n",
    "        current = read_output_file(outputfile, G)\n",
    "        dc = average_pairwise_distance_fast(current)\n",
    "        print(\"Original: \" + str(dc))\n",
    "        print(\"New: \" + str(min(dists)))\n",
    "        if min(dists) < average_pairwise_distance_fast(current):\n",
    "            print(\"Improved output for \" + filename)\n",
    "            logwriter.writerow(dists + [filename, timestamp])\n",
    "            write_output_file(T, outputfile)"
   ]
  }
 ],
 "metadata": {
  "language_info": {
   "codemirror_mode": {
    "name": "ipython",
    "version": 3
   },
   "file_extension": ".py",
   "mimetype": "text/x-python",
   "name": "python",
   "nbconvert_exporter": "python",
   "pygments_lexer": "ipython3",
   "version": "3.7.4-final"
  },
  "orig_nbformat": 2,
  "kernelspec": {
   "name": "python3",
   "display_name": "Python 3"
  }
 },
 "nbformat": 4,
 "nbformat_minor": 2
}